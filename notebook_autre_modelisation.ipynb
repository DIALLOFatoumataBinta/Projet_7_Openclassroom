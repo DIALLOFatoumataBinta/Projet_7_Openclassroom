{
 "cells": [
  {
   "cell_type": "markdown",
   "id": "8b26f072",
   "metadata": {},
   "source": [
    "<div style=\"display: flex; background-color: #3F579F;\">\n",
    "    <h1 style=\"margin: auto; font-weight: bold; padding: 30px 30px 0px 30px; color:#fff;\" align=\"center\">Implémentez un modèle de scoring - P7</h1>\n",
    "</div>\n",
    "<div style=\"display: flex; background-color: #3F579F; margin: auto; padding: 5px 30px 0px 30px;\" >\n",
    "    <h3 style=\"width: 100%; text-align: center; float: left; font-size: 24px; color:#fff;\" align=\"center\">| Études des modèles |</h3>\n",
    "</div>\n",
    "<div style=\"display: flex; background-color: #3F579F; margin: auto; padding: 10px 30px 30px 30px;\">\n",
    "    <h4 style=\"width: 100%; text-align: center; float: left; font-size: 24px; color:#fff;\" align=\"center\">Data Scientist - OpenClassrooms</h4>\n",
    "</div>"
   ]
  },
  {
   "cell_type": "code",
   "execution_count": 1,
   "id": "72044a90",
   "metadata": {},
   "outputs": [],
   "source": [
    "## General\n",
    "import timeit\n",
    "import re\n",
    "import pandas as pd\n",
    "import numpy as np\n",
    "from collections import Counter\n",
    "import matplotlib.style as style\n",
    "import matplotlib.pyplot as plt\n",
    "import seaborn as sns\n",
    "\n",
    "## Scikit Learn library\n",
    "from sklearn.experimental import enable_halving_search_cv\n",
    "from sklearn.model_selection import (train_test_split, StratifiedKFold, KFold, \n",
    "                                     HalvingGridSearchCV, cross_validate, GridSearchCV)\n",
    "from sklearn.ensemble import RandomForestClassifier, GradientBoostingClassifier\n",
    "import xgboost as xgb\n",
    "## LightGBM\n",
    "from lightgbm import LGBMClassifier\n",
    "\n",
    "from sklearn.linear_model import LogisticRegression\n",
    "\n",
    "from sklearn.metrics import (precision_score, roc_auc_score, recall_score, \n",
    "                             f1_score, fbeta_score, confusion_matrix, roc_curve, \n",
    "                             )\n",
    "from sklearn.feature_selection import SelectKBest, f_classif\n",
    "\n",
    "## imbalanced-learn\n",
    "from imblearn.pipeline import Pipeline as imbpipeline\n",
    "from imblearn.over_sampling import SMOTE\n",
    "\n",
    "\n",
    "\n",
    "## To use S3 files\n",
    "import boto3\n",
    "from sagemaker import get_execution_role\n",
    "\n",
    "## SHapley Additive exPlanations.\n",
    "#import shap\n",
    "import pickle\n",
    "## Lightweight pipelining in Python\n",
    "import joblib\n",
    "\n",
    "\n",
    "%matplotlib inline\n",
    "\n",
    "#!pip3 install imblearn\n"
   ]
  },
  {
   "cell_type": "code",
   "execution_count": 2,
   "id": "ee90c0f2",
   "metadata": {},
   "outputs": [],
   "source": [
    "from sklearn.pipeline import make_pipeline, Pipeline"
   ]
  },
  {
   "cell_type": "code",
   "execution_count": 3,
   "id": "2dd527e0",
   "metadata": {},
   "outputs": [
    {
     "data": {
      "text/plain": [
       "(307507, 608)"
      ]
     },
     "execution_count": 3,
     "metadata": {},
     "output_type": "execute_result"
    }
   ],
   "source": [
    "data=pd.read_csv(\"df_current_clients.csv\")\n",
    "data.shape"
   ]
  },
  {
   "cell_type": "code",
   "execution_count": 4,
   "id": "93fd3204",
   "metadata": {},
   "outputs": [
    {
     "data": {
      "text/plain": [
       "0         100002.0\n",
       "1         100003.0\n",
       "2         100004.0\n",
       "3         100006.0\n",
       "4         100007.0\n",
       "            ...   \n",
       "307502    456251.0\n",
       "307503    456252.0\n",
       "307504    456253.0\n",
       "307505    456254.0\n",
       "307506    456255.0\n",
       "Name: SK_ID_CURR, Length: 307507, dtype: float64"
      ]
     },
     "execution_count": 4,
     "metadata": {},
     "output_type": "execute_result"
    }
   ],
   "source": [
    "data[\"SK_ID_CURR\"]"
   ]
  },
  {
   "cell_type": "code",
   "execution_count": 5,
   "id": "c9ec9311",
   "metadata": {},
   "outputs": [
    {
     "data": {
      "text/plain": [
       "SK_ID_CURR                                                  0.0\n",
       "PREV_NAME_CASH_LOAN_PURPOSE_Furniture_MEAN                  0.0\n",
       "PREV_NAME_CASH_LOAN_PURPOSE_Gasificationwatersupply_MEAN    0.0\n",
       "PREV_NAME_CASH_LOAN_PURPOSE_Hobby_MEAN                      0.0\n",
       "PREV_NAME_CASH_LOAN_PURPOSE_Journey_MEAN                    0.0\n",
       "                                                           ... \n",
       "ORGANIZATION_TYPE_Realtor                                   0.0\n",
       "ORGANIZATION_TYPE_Religion                                  0.0\n",
       "ORGANIZATION_TYPE_Restaurant                                0.0\n",
       "ORGANIZATION_TYPE_Military                                  0.0\n",
       "INSTAL_COUNT                                                0.0\n",
       "Length: 608, dtype: float64"
      ]
     },
     "execution_count": 5,
     "metadata": {},
     "output_type": "execute_result"
    }
   ],
   "source": [
    "data.isnull().mean().sort_values()"
   ]
  },
  {
   "cell_type": "code",
   "execution_count": 6,
   "id": "05578743",
   "metadata": {},
   "outputs": [
    {
     "data": {
      "text/plain": [
       "['SK_ID_CURR', 'TARGET']"
      ]
     },
     "execution_count": 6,
     "metadata": {},
     "output_type": "execute_result"
    }
   ],
   "source": [
    "not_feats_columns  = ['TARGET','SK_ID_CURR','SK_ID_BUREAU','SK_ID_PREV','index']\n",
    "[i for i in data.columns if i in not_feats_columns]  "
   ]
  },
  {
   "cell_type": "code",
   "execution_count": 7,
   "id": "948cdb89",
   "metadata": {},
   "outputs": [],
   "source": [
    "feats= [col for col in data.columns if col not in ['SK_ID_CURR', 'TARGET']]"
   ]
  },
  {
   "cell_type": "code",
   "execution_count": 8,
   "id": "b2b898fd",
   "metadata": {},
   "outputs": [],
   "source": [
    "X = data[feats]\n",
    "Y = data.loc[:,\"TARGET\"]"
   ]
  },
  {
   "cell_type": "code",
   "execution_count": 9,
   "id": "b88daab5",
   "metadata": {},
   "outputs": [],
   "source": [
    "X_train, X_test, y_train, y_test = train_test_split(X, Y, test_size=0.20, stratify=Y, random_state=42)"
   ]
  },
  {
   "cell_type": "code",
   "execution_count": 16,
   "id": "9609bfc8",
   "metadata": {},
   "outputs": [
    {
     "name": "stdout",
     "output_type": "stream",
     "text": [
      "X_train: (246005, 606) et y_train: (246005,)\n",
      "---------------------\n",
      "X_test: (61502, 606) et y_test: (61502,)\n"
     ]
    }
   ],
   "source": [
    "print(\"X_train: {} et y_train: {}\".format(X_train.shape, y_train.shape))\n",
    "print(\"---------------------\")\n",
    "print(\"X_test: {} et y_test: {}\".format(X_test.shape, y_test.shape))"
   ]
  },
  {
   "cell_type": "code",
   "execution_count": 10,
   "id": "802b6a17",
   "metadata": {},
   "outputs": [],
   "source": [
    "stratified_kfold = StratifiedKFold(n_splits=3, shuffle=True, random_state=42)\n",
    "scoring = [\"roc_auc\", \"recall\", \"f1\"]\n",
    "\n",
    "\n",
    "classifiers = {\n",
    "    \"Random Forest\" : RandomForestClassifier(),\n",
    "    \"LightGBM\" : LGBMClassifier(),\n",
    "    \"Gradient Boosting\" : GradientBoostingClassifier(),\n",
    "    \"LogisticRegression\" : LogisticRegression(random_state=4),\n",
    "    \"xgboost\" : xgb.XGBClassifier()\n",
    "}"
   ]
  },
  {
   "cell_type": "code",
   "execution_count": 17,
   "id": "57f5a3d3",
   "metadata": {},
   "outputs": [
    {
     "name": "stderr",
     "output_type": "stream",
     "text": [
      "/home/bdiallo/miniconda3/lib/python3.8/site-packages/sklearn/linear_model/_logistic.py:444: ConvergenceWarning: lbfgs failed to converge (status=1):\n",
      "STOP: TOTAL NO. of ITERATIONS REACHED LIMIT.\n",
      "\n",
      "Increase the number of iterations (max_iter) or scale the data as shown in:\n",
      "    https://scikit-learn.org/stable/modules/preprocessing.html\n",
      "Please also refer to the documentation for alternative solver options:\n",
      "    https://scikit-learn.org/stable/modules/linear_model.html#logistic-regression\n",
      "  n_iter_i = _check_optimize_result(\n",
      "/home/bdiallo/miniconda3/lib/python3.8/site-packages/sklearn/linear_model/_logistic.py:444: ConvergenceWarning: lbfgs failed to converge (status=1):\n",
      "STOP: TOTAL NO. of ITERATIONS REACHED LIMIT.\n",
      "\n",
      "Increase the number of iterations (max_iter) or scale the data as shown in:\n",
      "    https://scikit-learn.org/stable/modules/preprocessing.html\n",
      "Please also refer to the documentation for alternative solver options:\n",
      "    https://scikit-learn.org/stable/modules/linear_model.html#logistic-regression\n",
      "  n_iter_i = _check_optimize_result(\n"
     ]
    }
   ],
   "source": [
    "# List of metrics results for each models \n",
    "LIST_MODEL, LIST_RECALL, LIST_ROC_AUC, LIST_F1, LIST_DURATION  = ([] for i in range(5))\n",
    "\n",
    "for key, clf in classifiers.items():\n",
    "    \n",
    "    start_time_model = timeit.default_timer()\n",
    "    \n",
    "    scores = cross_validate(clf, X_train, y_train, \n",
    "                            cv=stratified_kfold, scoring=scoring)\n",
    "    \n",
    "    end_time_model =  round(timeit.default_timer() - start_time_model, 3)\n",
    "    \n",
    "    # Adding results into LIST\n",
    "    LIST_MODEL.append(key)\n",
    "    LIST_RECALL.append(round(scores.get(\"test_recall\").mean(), 3))\n",
    "    LIST_ROC_AUC.append(round(scores.get(\"test_roc_auc\").mean(), 3))\n",
    "    LIST_F1.append(round(scores.get(\"test_f1\").mean(), 3))\n",
    "    LIST_DURATION.append(end_time_model)"
   ]
  },
  {
   "cell_type": "code",
   "execution_count": 21,
   "id": "fed0f60a",
   "metadata": {},
   "outputs": [
    {
     "data": {
      "text/plain": [
       "{'ROC_AUC': [0.71, 0.777, 0.769, 0.572, 0.767],\n",
       " 'F1': [0.002, 0.068, 0.04, 0.001, 0.105],\n",
       " 'recall': [0.001, 0.036, 0.021, 0.0, 0.06]}"
      ]
     },
     "execution_count": 21,
     "metadata": {},
     "output_type": "execute_result"
    }
   ],
   "source": [
    "list_result={\"ROC_AUC\":LIST_ROC_AUC, \"F1\": LIST_F1, \"recall\": LIST_RECALL}\n",
    "list_result"
   ]
  },
  {
   "cell_type": "code",
   "execution_count": 40,
   "id": "193360fc",
   "metadata": {},
   "outputs": [
    {
     "data": {
      "text/html": [
       "<div>\n",
       "<style scoped>\n",
       "    .dataframe tbody tr th:only-of-type {\n",
       "        vertical-align: middle;\n",
       "    }\n",
       "\n",
       "    .dataframe tbody tr th {\n",
       "        vertical-align: top;\n",
       "    }\n",
       "\n",
       "    .dataframe thead th {\n",
       "        text-align: right;\n",
       "    }\n",
       "</style>\n",
       "<table border=\"1\" class=\"dataframe\">\n",
       "  <thead>\n",
       "    <tr style=\"text-align: right;\">\n",
       "      <th></th>\n",
       "      <th>Random Forest</th>\n",
       "      <th>LightGBM</th>\n",
       "      <th>Gradient Boosting</th>\n",
       "      <th>LogisticRegression</th>\n",
       "      <th>xgboost</th>\n",
       "    </tr>\n",
       "  </thead>\n",
       "  <tbody>\n",
       "    <tr>\n",
       "      <th>ROC_AUC</th>\n",
       "      <td>0.710</td>\n",
       "      <td>0.777</td>\n",
       "      <td>0.769</td>\n",
       "      <td>0.572</td>\n",
       "      <td>0.767</td>\n",
       "    </tr>\n",
       "    <tr>\n",
       "      <th>F1</th>\n",
       "      <td>0.002</td>\n",
       "      <td>0.068</td>\n",
       "      <td>0.040</td>\n",
       "      <td>0.001</td>\n",
       "      <td>0.105</td>\n",
       "    </tr>\n",
       "    <tr>\n",
       "      <th>recall</th>\n",
       "      <td>0.001</td>\n",
       "      <td>0.036</td>\n",
       "      <td>0.021</td>\n",
       "      <td>0.000</td>\n",
       "      <td>0.060</td>\n",
       "    </tr>\n",
       "  </tbody>\n",
       "</table>\n",
       "</div>"
      ],
      "text/plain": [
       "         Random Forest  LightGBM  Gradient Boosting  LogisticRegression  \\\n",
       "ROC_AUC          0.710     0.777              0.769               0.572   \n",
       "F1               0.002     0.068              0.040               0.001   \n",
       "recall           0.001     0.036              0.021               0.000   \n",
       "\n",
       "         xgboost  \n",
       "ROC_AUC    0.767  \n",
       "F1         0.105  \n",
       "recall     0.060  "
      ]
     },
     "execution_count": 40,
     "metadata": {},
     "output_type": "execute_result"
    }
   ],
   "source": [
    "df_models_result= pd.DataFrame([LIST_ROC_AUC,LIST_F1,\n",
    "                               LIST_RECALL], index=list_result.keys(), columns = LIST_MODEL)\n",
    "df_models_result\n"
   ]
  },
  {
   "cell_type": "code",
   "execution_count": 30,
   "id": "16088b32",
   "metadata": {},
   "outputs": [],
   "source": [
    "df_models_result=pd.read_csv(\"comp_model.csv\", sep=\"\\t\", index_col=None)"
   ]
  },
  {
   "cell_type": "code",
   "execution_count": 44,
   "id": "694199c9",
   "metadata": {},
   "outputs": [],
   "source": [
    "#df_models_result.index=[\"ROC_AUC\",\"F1\", \"recall\"]\n",
    "#df_models_result"
   ]
  },
  {
   "cell_type": "code",
   "execution_count": 46,
   "id": "1ddf9a20",
   "metadata": {},
   "outputs": [
    {
     "data": {
      "image/png": "[encoded data removed]",
      "text/plain": [
       "<Figure size 576x504 with 1 Axes>"
      ]
     },
     "metadata": {
      "needs_background": "light"
     },
     "output_type": "display_data"
    }
   ],
   "source": [
    "fig = plt.subplots(figsize=(8, 7))\n",
    "SIZE=20\n",
    "plot=sns.barplot(\n",
    "    x=y_train.value_counts().index,\n",
    "    y=y_train.value_counts(normalize=True),\n",
    ")\n",
    "\n",
    "for p in plot.patches:\n",
    "    plot.annotate(format(p.get_height()*100, \".1f\"), (p.get_x() + p.get_width() / 2., p.get_height()), \n",
    "                    ha=\"center\", va=\"center\", xytext=(0, 8), textcoords=\"offset points\")\n",
    "plt.title(\"Répartition \", size=20)\n",
    "plt.xlabel(\"Target\", size=17)\n",
    "plt.ylabel(\"%\", size=17)\n",
    "\n",
    "plt.rc('axes', labelsize=SIZE) \n",
    "plt.rc('xtick', labelsize=SIZE)\n",
    "plt.rc('ytick', labelsize=SIZE) \n",
    "plt.rc('legend', fontsize=SIZE)\n",
    "plt.tight_layout()\n",
    "plt.savefig(\"fig/repartition_target.png\")"
   ]
  },
  {
   "cell_type": "code",
   "execution_count": 41,
   "id": "83f3a891",
   "metadata": {},
   "outputs": [
    {
     "data": {
      "image/png": "[encoded data removed]",
      "text/plain": [
       "<Figure size 864x504 with 1 Axes>"
      ]
     },
     "metadata": {
      "needs_background": "light"
     },
     "output_type": "display_data"
    }
   ],
   "source": [
    "SIZE=18\n",
    "plot= df_models_result.plot.bar(rot=0, figsize=[12,7])\n",
    "plt.title(\"Comparaison des modèles\", size=20)\n",
    "for p in plot.patches:\n",
    "    plot.annotate(format(p.get_height(), \".3f\"), (p.get_x() + p.get_width() / 2., p.get_height()), \n",
    "                    ha=\"center\", va=\"center\", xytext=(0, 8), textcoords=\"offset points\")\n",
    "plt.legend(bbox_to_anchor=(1, 1), borderaxespad=0, title=\"Metrics\", prop={'size':15})\n",
    "plt.tight_layout()\n",
    "plt.xlabel(\"Model\", size=17)\n",
    "plt.ylabel(\"Metric\", size=17)\n",
    "\n",
    "plt.rc('axes', labelsize=SIZE) \n",
    "plt.rc('xtick', labelsize=SIZE)\n",
    "plt.rc('ytick', labelsize=SIZE) \n",
    "plt.rc('legend', fontsize=SIZE)\n",
    "plt.tight_layout()\n",
    "plt.savefig(\"fig/comparaison_model.png\")"
   ]
  },
  {
   "cell_type": "markdown",
   "id": "68f7aba3",
   "metadata": {},
   "source": [
    "Dans ce résultat le modèle LightGBM est celui qui présente le meilleur résultat de ROC_AUC. Dans le kernel précédemment étudié  \"<citation>\" le modèle LightGBM a été optimisé et les resultats du ROC_AUC ont augmenté. Il a obtenue une valeur de de **0.79** en moyenne. avec les paramètres suivante :<br/>\n",
    "    <div class=\"alert alert-block alert-success\">\n",
    "    nthread=4,\n",
    "    n_estimators=10000,\n",
    "    learning_rate=0.02,\n",
    "    num_leaves=34,\n",
    "    colsample_bytree=0.9497036,\n",
    "    subsample=0.8715623,\n",
    "    max_depth=8,\n",
    "    reg_alpha=0.041545473,\n",
    "    reg_lambda=0.0735294,\n",
    "    min_split_gain=0.0222415,\n",
    "    min_child_weight=39.3259775,\n",
    "    silent=-1,\n",
    "    verbose=-1\n",
    "    </div>\n",
    "    \n",
    " En analysant les différents scoring on note que le modèle **xgboost** est celui qui a une meilleure réprésentation du recall et du F1. <br/>Cependant, on note une surreprésentation de la classe majoritaire donc pour résoudre ce déséquilibre, je choisi dans la suite de réanchantilloner en utilisant \"**SMOTE**\""
   ]
  },
  {
   "cell_type": "code",
   "execution_count": 11,
   "id": "d6170497",
   "metadata": {},
   "outputs": [],
   "source": [
    "over = SMOTE(random_state=42)\n",
    "X_train_new, y_train_new = over.fit_resample(X_train, y_train)"
   ]
  },
  {
   "cell_type": "code",
   "execution_count": 52,
   "id": "405f62d5",
   "metadata": {},
   "outputs": [
    {
     "data": {
      "image/png": "[encoded data removed]",
      "text/plain": [
       "<Figure size 576x504 with 1 Axes>"
      ]
     },
     "metadata": {
      "needs_background": "light"
     },
     "output_type": "display_data"
    }
   ],
   "source": [
    "fig = plt.subplots(figsize=(8, 7))\n",
    "SIZE=20\n",
    "plot= sns.barplot(\n",
    "    x=y_train_new.value_counts().index,\n",
    "    y=y_train_new.value_counts(normalize=True),\n",
    ")\n",
    "for p in plot.patches:\n",
    "    plot.annotate(format(p.get_height()*100, \".1f\"), (p.get_x() + p.get_width() / 2., p.get_height()), \n",
    "                    ha=\"center\", va=\"center\", xytext=(0, 8), textcoords=\"offset points\")\n",
    "plt.title(\"Répartition  après rééchantillonnage\", size=20)\n",
    "plt.xlabel(\"Target\", size=17)\n",
    "plt.ylabel(\"%\", size=17)\n",
    "\n",
    "plt.rc('axes', labelsize=SIZE) \n",
    "plt.rc('xtick', labelsize=SIZE)\n",
    "plt.rc('ytick', labelsize=SIZE) \n",
    "plt.rc('legend', fontsize=SIZE)\n",
    "plt.tight_layout()\n",
    "plt.savefig(\"fig/repartition_target_SMOTE.png\")"
   ]
  },
  {
   "cell_type": "code",
   "execution_count": 12,
   "id": "8d1ed087",
   "metadata": {},
   "outputs": [],
   "source": [
    "X_train_set,X_valid_set, y_train_set,y_valid_set = train_test_split(\n",
    "    X_train_new,y_train_new, test_size=0.2, random_state=42)"
   ]
  },
  {
   "cell_type": "code",
   "execution_count": 13,
   "id": "6969aeac",
   "metadata": {},
   "outputs": [
    {
     "name": "stderr",
     "output_type": "stream",
     "text": [
      "/home/bdiallo/miniconda3/lib/python3.8/site-packages/sklearn/linear_model/_logistic.py:444: ConvergenceWarning: lbfgs failed to converge (status=1):\n",
      "STOP: TOTAL NO. of ITERATIONS REACHED LIMIT.\n",
      "\n",
      "Increase the number of iterations (max_iter) or scale the data as shown in:\n",
      "    https://scikit-learn.org/stable/modules/preprocessing.html\n",
      "Please also refer to the documentation for alternative solver options:\n",
      "    https://scikit-learn.org/stable/modules/linear_model.html#logistic-regression\n",
      "  n_iter_i = _check_optimize_result(\n"
     ]
    }
   ],
   "source": [
    "# List of metrics results for each models \n",
    "LIST_MODEL_2, LIST_RECALL_2, LIST_ROC_AUC_2, LIST_F1_2, LIST_DURATION_2  = ([] for i in range(5))\n",
    "\n",
    "for key, clf in classifiers.items():\n",
    "    \n",
    "    start_time_model = timeit.default_timer()\n",
    "    \n",
    "    scores = cross_validate(clf, X_train_set, y_train_set, \n",
    "                            cv=stratified_kfold, scoring=scoring)\n",
    "    \n",
    "    end_time_model =  round(timeit.default_timer() - start_time_model, 3)\n",
    "    \n",
    "    # Adding results into LIST\n",
    "    LIST_MODEL_2.append(key)\n",
    "    LIST_RECALL_2.append(round(scores.get(\"test_recall\").mean(), 3))\n",
    "    LIST_ROC_AUC_2.append(round(scores.get(\"test_roc_auc\").mean(), 3))\n",
    "    LIST_F1_2.append(round(scores.get(\"test_f1\").mean(), 3))\n",
    "    LIST_DURATION_2.append(end_time_model)"
   ]
  },
  {
   "cell_type": "code",
   "execution_count": 16,
   "id": "11035a37",
   "metadata": {},
   "outputs": [
    {
     "data": {
      "text/html": [
       "<div>\n",
       "<style scoped>\n",
       "    .dataframe tbody tr th:only-of-type {\n",
       "        vertical-align: middle;\n",
       "    }\n",
       "\n",
       "    .dataframe tbody tr th {\n",
       "        vertical-align: top;\n",
       "    }\n",
       "\n",
       "    .dataframe thead th {\n",
       "        text-align: right;\n",
       "    }\n",
       "</style>\n",
       "<table border=\"1\" class=\"dataframe\">\n",
       "  <thead>\n",
       "    <tr style=\"text-align: right;\">\n",
       "      <th></th>\n",
       "      <th>Random Forest</th>\n",
       "      <th>LightGBM</th>\n",
       "      <th>Gradient Boosting</th>\n",
       "      <th>LogisticRegression</th>\n",
       "      <th>xgboost</th>\n",
       "    </tr>\n",
       "  </thead>\n",
       "  <tbody>\n",
       "    <tr>\n",
       "      <th>ROC_AUC</th>\n",
       "      <td>0.983</td>\n",
       "      <td>0.980</td>\n",
       "      <td>0.975</td>\n",
       "      <td>0.594</td>\n",
       "      <td>0.979</td>\n",
       "    </tr>\n",
       "    <tr>\n",
       "      <th>F1</th>\n",
       "      <td>0.954</td>\n",
       "      <td>0.954</td>\n",
       "      <td>0.952</td>\n",
       "      <td>0.248</td>\n",
       "      <td>0.953</td>\n",
       "    </tr>\n",
       "    <tr>\n",
       "      <th>recall</th>\n",
       "      <td>0.912</td>\n",
       "      <td>0.913</td>\n",
       "      <td>0.910</td>\n",
       "      <td>0.162</td>\n",
       "      <td>0.918</td>\n",
       "    </tr>\n",
       "  </tbody>\n",
       "</table>\n",
       "</div>"
      ],
      "text/plain": [
       "         Random Forest  LightGBM  Gradient Boosting  LogisticRegression  \\\n",
       "ROC_AUC          0.983     0.980              0.975               0.594   \n",
       "F1               0.954     0.954              0.952               0.248   \n",
       "recall           0.912     0.913              0.910               0.162   \n",
       "\n",
       "         xgboost  \n",
       "ROC_AUC    0.979  \n",
       "F1         0.953  \n",
       "recall     0.918  "
      ]
     },
     "execution_count": 16,
     "metadata": {},
     "output_type": "execute_result"
    }
   ],
   "source": [
    "list_result={\"ROC_AUC\":LIST_ROC_AUC_2, \"F1\": LIST_F1_2, \"recall\": LIST_RECALL_2}\n",
    "\n",
    "df_models_result_2= pd.DataFrame([LIST_ROC_AUC_2,LIST_F1_2,\n",
    "                               LIST_RECALL_2], index=list_result.keys(), columns = LIST_MODEL_2)\n",
    "df_models_result_2"
   ]
  },
  {
   "cell_type": "code",
   "execution_count": 43,
   "id": "5102cc6e",
   "metadata": {},
   "outputs": [
    {
     "data": {
      "image/png": "[encoded data removed]",
      "text/plain": [
       "<Figure size 1080x576 with 1 Axes>"
      ]
     },
     "metadata": {
      "needs_background": "light"
     },
     "output_type": "display_data"
    }
   ],
   "source": [
    "SIZE=18\n",
    "plot= df_models_result_2.plot.bar(rot=0, figsize=[15,8])\n",
    "plt.title(\"Comparaison des modèles après rééchantillonnage\", size=20)\n",
    "for p in plot.patches:\n",
    "    plot.annotate(format(p.get_height(), \".3f\"), (p.get_x() + p.get_width() / 2., p.get_height()), \n",
    "                    ha=\"center\", va=\"center\", xytext=(0, 8), textcoords=\"offset points\")\n",
    "plt.legend(bbox_to_anchor=(1, 1), borderaxespad=0, title=\"Metrics\", prop={'size':15})\n",
    "plt.tight_layout()\n",
    "plt.xlabel(\"Model\", size=17)\n",
    "plt.ylabel(\"Metric\", size=17)\n",
    "\n",
    "plt.rc('axes', labelsize=SIZE) \n",
    "plt.rc('xtick', labelsize=SIZE)\n",
    "plt.rc('ytick', labelsize=SIZE) \n",
    "plt.rc('legend', fontsize=SIZE)\n",
    "plt.tight_layout()\n",
    "plt.savefig(\"fig/comparaison_model_smote.png\")"
   ]
  },
  {
   "cell_type": "code",
   "execution_count": 13,
   "id": "e29b7770",
   "metadata": {},
   "outputs": [
    {
     "data": {
      "text/plain": [
       "((452290, 606), (246005, 606))"
      ]
     },
     "execution_count": 13,
     "metadata": {},
     "output_type": "execute_result"
    }
   ],
   "source": [
    "X_train_new.shape,X_train.shape"
   ]
  },
  {
   "cell_type": "code",
   "execution_count": 7,
   "id": "03ef1328",
   "metadata": {},
   "outputs": [],
   "source": [
    "X_valid_set.to_csv(\"X_valid_set.csv\", header=True, encoding='utf-8')\n",
    "X_train_set.to_csv(\"X_train_set.csv\", header=True, encoding='utf-8')"
   ]
  },
  {
   "cell_type": "code",
   "execution_count": 55,
   "id": "18b1eab9",
   "metadata": {},
   "outputs": [],
   "source": [
    "y_valid_set.to_csv(\"y_valid_set.csv\", header=True, encoding='utf-8')\n",
    "y_train_set.to_csv(\"y_train_set.csv\", header=True, encoding='utf-8')"
   ]
  },
  {
   "cell_type": "markdown",
   "id": "81e3354f",
   "metadata": {},
   "source": [
    "# Recherche des meilleurs hyperparamètres"
   ]
  },
  {
   "cell_type": "markdown",
   "id": "b86ff784",
   "metadata": {},
   "source": [
    "## RandomForest"
   ]
  },
  {
   "cell_type": "code",
   "execution_count": 14,
   "id": "27c934d6",
   "metadata": {},
   "outputs": [],
   "source": [
    "parameters_1 = {'n_estimators' : [100], 'min_samples_leaf' : [1,2,3,4,5], \n",
    "              'max_features': [int(x) for x in np.linspace(1,10,5)]}\n",
    "\n",
    "Randomgrid = GridSearchCV(RandomForestClassifier(random_state=4),\n",
    "                        param_grid = parameters_1, verbose=-1,cv=stratified_kfold,\n",
    "                        scoring='roc_auc')"
   ]
  },
  {
   "cell_type": "code",
   "execution_count": 15,
   "id": "0a4d7d6e",
   "metadata": {},
   "outputs": [
    {
     "data": {
      "text/html": [
       "<style>#sk-container-id-1 {color: black;background-color: white;}#sk-container-id-1 pre{padding: 0;}#sk-container-id-1 div.sk-toggleable {background-color: white;}#sk-container-id-1 label.sk-toggleable__label {cursor: pointer;display: block;width: 100%;margin-bottom: 0;padding: 0.3em;box-sizing: border-box;text-align: center;}#sk-container-id-1 label.sk-toggleable__label-arrow:before {content: \"▸\";float: left;margin-right: 0.25em;color: #696969;}#sk-container-id-1 label.sk-toggleable__label-arrow:hover:before {color: black;}#sk-container-id-1 div.sk-estimator:hover label.sk-toggleable__label-arrow:before {color: black;}#sk-container-id-1 div.sk-toggleable__content {max-height: 0;max-width: 0;overflow: hidden;text-align: left;background-color: #f0f8ff;}#sk-container-id-1 div.sk-toggleable__content pre {margin: 0.2em;color: black;border-radius: 0.25em;background-color: #f0f8ff;}#sk-container-id-1 input.sk-toggleable__control:checked~div.sk-toggleable__content {max-height: 200px;max-width: 100%;overflow: auto;}#sk-container-id-1 input.sk-toggleable__control:checked~label.sk-toggleable__label-arrow:before {content: \"▾\";}#sk-container-id-1 div.sk-estimator input.sk-toggleable__control:checked~label.sk-toggleable__label {background-color: #d4ebff;}#sk-container-id-1 div.sk-label input.sk-toggleable__control:checked~label.sk-toggleable__label {background-color: #d4ebff;}#sk-container-id-1 input.sk-hidden--visually {border: 0;clip: rect(1px 1px 1px 1px);clip: rect(1px, 1px, 1px, 1px);height: 1px;margin: -1px;overflow: hidden;padding: 0;position: absolute;width: 1px;}#sk-container-id-1 div.sk-estimator {font-family: monospace;background-color: #f0f8ff;border: 1px dotted black;border-radius: 0.25em;box-sizing: border-box;margin-bottom: 0.5em;}#sk-container-id-1 div.sk-estimator:hover {background-color: #d4ebff;}#sk-container-id-1 div.sk-parallel-item::after {content: \"\";width: 100%;border-bottom: 1px solid gray;flex-grow: 1;}#sk-container-id-1 div.sk-label:hover label.sk-toggleable__label {background-color: #d4ebff;}#sk-container-id-1 div.sk-serial::before {content: \"\";position: absolute;border-left: 1px solid gray;box-sizing: border-box;top: 0;bottom: 0;left: 50%;z-index: 0;}#sk-container-id-1 div.sk-serial {display: flex;flex-direction: column;align-items: center;background-color: white;padding-right: 0.2em;padding-left: 0.2em;position: relative;}#sk-container-id-1 div.sk-item {position: relative;z-index: 1;}#sk-container-id-1 div.sk-parallel {display: flex;align-items: stretch;justify-content: center;background-color: white;position: relative;}#sk-container-id-1 div.sk-item::before, #sk-container-id-1 div.sk-parallel-item::before {content: \"\";position: absolute;border-left: 1px solid gray;box-sizing: border-box;top: 0;bottom: 0;left: 50%;z-index: -1;}#sk-container-id-1 div.sk-parallel-item {display: flex;flex-direction: column;z-index: 1;position: relative;background-color: white;}#sk-container-id-1 div.sk-parallel-item:first-child::after {align-self: flex-end;width: 50%;}#sk-container-id-1 div.sk-parallel-item:last-child::after {align-self: flex-start;width: 50%;}#sk-container-id-1 div.sk-parallel-item:only-child::after {width: 0;}#sk-container-id-1 div.sk-dashed-wrapped {border: 1px dashed gray;margin: 0 0.4em 0.5em 0.4em;box-sizing: border-box;padding-bottom: 0.4em;background-color: white;}#sk-container-id-1 div.sk-label label {font-family: monospace;font-weight: bold;display: inline-block;line-height: 1.2em;}#sk-container-id-1 div.sk-label-container {text-align: center;}#sk-container-id-1 div.sk-container {/* jupyter's `normalize.less` sets `[hidden] { display: none; }` but bootstrap.min.css set `[hidden] { display: none !important; }` so we also need the `!important` here to be able to override the default hidden behavior on the sphinx rendered scikit-learn.org. See: https://github.com/scikit-learn/scikit-learn/issues/21755 */display: inline-block !important;position: relative;}#sk-container-id-1 div.sk-text-repr-fallback {display: none;}</style><div id=\"sk-container-id-1\" class=\"sk-top-container\"><div class=\"sk-text-repr-fallback\"><pre>GridSearchCV(cv=StratifiedKFold(n_splits=3, random_state=42, shuffle=True),\n",
       "             estimator=RandomForestClassifier(random_state=4),\n",
       "             param_grid={&#x27;max_features&#x27;: [1, 3, 5, 7, 10],\n",
       "                         &#x27;min_samples_leaf&#x27;: [1, 2, 3, 4, 5],\n",
       "                         &#x27;n_estimators&#x27;: [100]},\n",
       "             scoring=&#x27;roc_auc&#x27;, verbose=-1)</pre><b>In a Jupyter environment, please rerun this cell to show the HTML representation or trust the notebook. <br />On GitHub, the HTML representation is unable to render, please try loading this page with nbviewer.org.</b></div><div class=\"sk-container\" hidden><div class=\"sk-item sk-dashed-wrapped\"><div class=\"sk-label-container\"><div class=\"sk-label sk-toggleable\"><input class=\"sk-toggleable__control sk-hidden--visually\" id=\"sk-estimator-id-1\" type=\"checkbox\" ><label for=\"sk-estimator-id-1\" class=\"sk-toggleable__label sk-toggleable__label-arrow\">GridSearchCV</label><div class=\"sk-toggleable__content\"><pre>GridSearchCV(cv=StratifiedKFold(n_splits=3, random_state=42, shuffle=True),\n",
       "             estimator=RandomForestClassifier(random_state=4),\n",
       "             param_grid={&#x27;max_features&#x27;: [1, 3, 5, 7, 10],\n",
       "                         &#x27;min_samples_leaf&#x27;: [1, 2, 3, 4, 5],\n",
       "                         &#x27;n_estimators&#x27;: [100]},\n",
       "             scoring=&#x27;roc_auc&#x27;, verbose=-1)</pre></div></div></div><div class=\"sk-parallel\"><div class=\"sk-parallel-item\"><div class=\"sk-item\"><div class=\"sk-label-container\"><div class=\"sk-label sk-toggleable\"><input class=\"sk-toggleable__control sk-hidden--visually\" id=\"sk-estimator-id-2\" type=\"checkbox\" ><label for=\"sk-estimator-id-2\" class=\"sk-toggleable__label sk-toggleable__label-arrow\">estimator: RandomForestClassifier</label><div class=\"sk-toggleable__content\"><pre>RandomForestClassifier(random_state=4)</pre></div></div></div><div class=\"sk-serial\"><div class=\"sk-item\"><div class=\"sk-estimator sk-toggleable\"><input class=\"sk-toggleable__control sk-hidden--visually\" id=\"sk-estimator-id-3\" type=\"checkbox\" ><label for=\"sk-estimator-id-3\" class=\"sk-toggleable__label sk-toggleable__label-arrow\">RandomForestClassifier</label><div class=\"sk-toggleable__content\"><pre>RandomForestClassifier(random_state=4)</pre></div></div></div></div></div></div></div></div></div></div>"
      ],
      "text/plain": [
       "GridSearchCV(cv=StratifiedKFold(n_splits=3, random_state=42, shuffle=True),\n",
       "             estimator=RandomForestClassifier(random_state=4),\n",
       "             param_grid={'max_features': [1, 3, 5, 7, 10],\n",
       "                         'min_samples_leaf': [1, 2, 3, 4, 5],\n",
       "                         'n_estimators': [100]},\n",
       "             scoring='roc_auc', verbose=-1)"
      ]
     },
     "execution_count": 15,
     "metadata": {},
     "output_type": "execute_result"
    }
   ],
   "source": [
    "Randomgrid.fit(X_train_set, y_train_set)"
   ]
  },
  {
   "cell_type": "code",
   "execution_count": 16,
   "id": "de15a1d2",
   "metadata": {},
   "outputs": [],
   "source": [
    "import pickle\n",
    "\n",
    "filename = 'RandomForest.pkl'\n",
    "with open(filename, 'wb') as file:\n",
    "    pickle.dump(Randomgrid,file)\n",
    "\n",
    "joblib.dump(Randomgrid, 'RandomForest.joblib')"
   ]
  },
  {
   "cell_type": "markdown",
   "id": "4a4609df",
   "metadata": {},
   "source": [
    "## LightGBM"
   ]
  },
  {
   "cell_type": "code",
   "execution_count": 16,
   "id": "c5b434cc",
   "metadata": {},
   "outputs": [],
   "source": [
    "parameters_2={'max_depth': [7, 8, 9],\n",
    "            'num_leaves': [32, 34],\n",
    "            'learning_rate': [0.01,0.02,0.03],\n",
    "            'colsample_bytree':[0.8,0.9, 1]}\n",
    "\n",
    "\n",
    "LightGBMgrid = GridSearchCV(LGBMClassifier(random_state=4),\n",
    "                        param_grid = parameters_2,verbose=-1,cv=stratified_kfold,\n",
    "                        scoring='roc_auc')"
   ]
  },
  {
   "cell_type": "code",
   "execution_count": 17,
   "id": "ea3932df",
   "metadata": {},
   "outputs": [
    {
     "data": {
      "text/html": [
       "<style>#sk-container-id-1 {color: black;background-color: white;}#sk-container-id-1 pre{padding: 0;}#sk-container-id-1 div.sk-toggleable {background-color: white;}#sk-container-id-1 label.sk-toggleable__label {cursor: pointer;display: block;width: 100%;margin-bottom: 0;padding: 0.3em;box-sizing: border-box;text-align: center;}#sk-container-id-1 label.sk-toggleable__label-arrow:before {content: \"▸\";float: left;margin-right: 0.25em;color: #696969;}#sk-container-id-1 label.sk-toggleable__label-arrow:hover:before {color: black;}#sk-container-id-1 div.sk-estimator:hover label.sk-toggleable__label-arrow:before {color: black;}#sk-container-id-1 div.sk-toggleable__content {max-height: 0;max-width: 0;overflow: hidden;text-align: left;background-color: #f0f8ff;}#sk-container-id-1 div.sk-toggleable__content pre {margin: 0.2em;color: black;border-radius: 0.25em;background-color: #f0f8ff;}#sk-container-id-1 input.sk-toggleable__control:checked~div.sk-toggleable__content {max-height: 200px;max-width: 100%;overflow: auto;}#sk-container-id-1 input.sk-toggleable__control:checked~label.sk-toggleable__label-arrow:before {content: \"▾\";}#sk-container-id-1 div.sk-estimator input.sk-toggleable__control:checked~label.sk-toggleable__label {background-color: #d4ebff;}#sk-container-id-1 div.sk-label input.sk-toggleable__control:checked~label.sk-toggleable__label {background-color: #d4ebff;}#sk-container-id-1 input.sk-hidden--visually {border: 0;clip: rect(1px 1px 1px 1px);clip: rect(1px, 1px, 1px, 1px);height: 1px;margin: -1px;overflow: hidden;padding: 0;position: absolute;width: 1px;}#sk-container-id-1 div.sk-estimator {font-family: monospace;background-color: #f0f8ff;border: 1px dotted black;border-radius: 0.25em;box-sizing: border-box;margin-bottom: 0.5em;}#sk-container-id-1 div.sk-estimator:hover {background-color: #d4ebff;}#sk-container-id-1 div.sk-parallel-item::after {content: \"\";width: 100%;border-bottom: 1px solid gray;flex-grow: 1;}#sk-container-id-1 div.sk-label:hover label.sk-toggleable__label {background-color: #d4ebff;}#sk-container-id-1 div.sk-serial::before {content: \"\";position: absolute;border-left: 1px solid gray;box-sizing: border-box;top: 0;bottom: 0;left: 50%;z-index: 0;}#sk-container-id-1 div.sk-serial {display: flex;flex-direction: column;align-items: center;background-color: white;padding-right: 0.2em;padding-left: 0.2em;position: relative;}#sk-container-id-1 div.sk-item {position: relative;z-index: 1;}#sk-container-id-1 div.sk-parallel {display: flex;align-items: stretch;justify-content: center;background-color: white;position: relative;}#sk-container-id-1 div.sk-item::before, #sk-container-id-1 div.sk-parallel-item::before {content: \"\";position: absolute;border-left: 1px solid gray;box-sizing: border-box;top: 0;bottom: 0;left: 50%;z-index: -1;}#sk-container-id-1 div.sk-parallel-item {display: flex;flex-direction: column;z-index: 1;position: relative;background-color: white;}#sk-container-id-1 div.sk-parallel-item:first-child::after {align-self: flex-end;width: 50%;}#sk-container-id-1 div.sk-parallel-item:last-child::after {align-self: flex-start;width: 50%;}#sk-container-id-1 div.sk-parallel-item:only-child::after {width: 0;}#sk-container-id-1 div.sk-dashed-wrapped {border: 1px dashed gray;margin: 0 0.4em 0.5em 0.4em;box-sizing: border-box;padding-bottom: 0.4em;background-color: white;}#sk-container-id-1 div.sk-label label {font-family: monospace;font-weight: bold;display: inline-block;line-height: 1.2em;}#sk-container-id-1 div.sk-label-container {text-align: center;}#sk-container-id-1 div.sk-container {/* jupyter's `normalize.less` sets `[hidden] { display: none; }` but bootstrap.min.css set `[hidden] { display: none !important; }` so we also need the `!important` here to be able to override the default hidden behavior on the sphinx rendered scikit-learn.org. See: https://github.com/scikit-learn/scikit-learn/issues/21755 */display: inline-block !important;position: relative;}#sk-container-id-1 div.sk-text-repr-fallback {display: none;}</style><div id=\"sk-container-id-1\" class=\"sk-top-container\"><div class=\"sk-text-repr-fallback\"><pre>GridSearchCV(cv=StratifiedKFold(n_splits=3, random_state=42, shuffle=True),\n",
       "             estimator=LGBMClassifier(random_state=4),\n",
       "             param_grid={&#x27;colsample_bytree&#x27;: [0.8, 0.9, 1],\n",
       "                         &#x27;learning_rate&#x27;: [0.01, 0.02, 0.03],\n",
       "                         &#x27;max_depth&#x27;: [7, 8, 9], &#x27;num_leaves&#x27;: [32, 34]},\n",
       "             scoring=&#x27;roc_auc&#x27;, verbose=-1)</pre><b>In a Jupyter environment, please rerun this cell to show the HTML representation or trust the notebook. <br />On GitHub, the HTML representation is unable to render, please try loading this page with nbviewer.org.</b></div><div class=\"sk-container\" hidden><div class=\"sk-item sk-dashed-wrapped\"><div class=\"sk-label-container\"><div class=\"sk-label sk-toggleable\"><input class=\"sk-toggleable__control sk-hidden--visually\" id=\"sk-estimator-id-1\" type=\"checkbox\" ><label for=\"sk-estimator-id-1\" class=\"sk-toggleable__label sk-toggleable__label-arrow\">GridSearchCV</label><div class=\"sk-toggleable__content\"><pre>GridSearchCV(cv=StratifiedKFold(n_splits=3, random_state=42, shuffle=True),\n",
       "             estimator=LGBMClassifier(random_state=4),\n",
       "             param_grid={&#x27;colsample_bytree&#x27;: [0.8, 0.9, 1],\n",
       "                         &#x27;learning_rate&#x27;: [0.01, 0.02, 0.03],\n",
       "                         &#x27;max_depth&#x27;: [7, 8, 9], &#x27;num_leaves&#x27;: [32, 34]},\n",
       "             scoring=&#x27;roc_auc&#x27;, verbose=-1)</pre></div></div></div><div class=\"sk-parallel\"><div class=\"sk-parallel-item\"><div class=\"sk-item\"><div class=\"sk-label-container\"><div class=\"sk-label sk-toggleable\"><input class=\"sk-toggleable__control sk-hidden--visually\" id=\"sk-estimator-id-2\" type=\"checkbox\" ><label for=\"sk-estimator-id-2\" class=\"sk-toggleable__label sk-toggleable__label-arrow\">estimator: LGBMClassifier</label><div class=\"sk-toggleable__content\"><pre>LGBMClassifier(random_state=4)</pre></div></div></div><div class=\"sk-serial\"><div class=\"sk-item\"><div class=\"sk-estimator sk-toggleable\"><input class=\"sk-toggleable__control sk-hidden--visually\" id=\"sk-estimator-id-3\" type=\"checkbox\" ><label for=\"sk-estimator-id-3\" class=\"sk-toggleable__label sk-toggleable__label-arrow\">LGBMClassifier</label><div class=\"sk-toggleable__content\"><pre>LGBMClassifier(random_state=4)</pre></div></div></div></div></div></div></div></div></div></div>"
      ],
      "text/plain": [
       "GridSearchCV(cv=StratifiedKFold(n_splits=3, random_state=42, shuffle=True),\n",
       "             estimator=LGBMClassifier(random_state=4),\n",
       "             param_grid={'colsample_bytree': [0.8, 0.9, 1],\n",
       "                         'learning_rate': [0.01, 0.02, 0.03],\n",
       "                         'max_depth': [7, 8, 9], 'num_leaves': [32, 34]},\n",
       "             scoring='roc_auc', verbose=-1)"
      ]
     },
     "execution_count": 17,
     "metadata": {},
     "output_type": "execute_result"
    }
   ],
   "source": [
    "LightGBMgrid.fit(X_train_set, y_train_set)"
   ]
  },
  {
   "cell_type": "code",
   "execution_count": 18,
   "id": "29208678",
   "metadata": {},
   "outputs": [],
   "source": [
    "filename = 'LightGBM.pkl'\n",
    "with open(filename, 'wb') as file:\n",
    "    pickle.dump(LightGBMgrid,file)"
   ]
  },
  {
   "cell_type": "code",
   "execution_count": null,
   "id": "b2a4467a",
   "metadata": {},
   "outputs": [],
   "source": []
  },
  {
   "cell_type": "markdown",
   "id": "d26e1fdd",
   "metadata": {},
   "source": [
    "## XGBoost"
   ]
  },
  {
   "cell_type": "code",
   "execution_count": 6,
   "id": "119a71f6",
   "metadata": {},
   "outputs": [],
   "source": [
    "n_estimators = [100, 200,300]\n",
    "subsample=[0.7, 0.8]\n",
    "learning_rate=[0.1,0.2]\n",
    "\n",
    "parameters = {'n_estimators': n_estimators,\n",
    "                 'subsample':subsample,\n",
    "                 'learning_rate':learning_rate}"
   ]
  },
  {
   "cell_type": "code",
   "execution_count": 17,
   "id": "8764dfaa",
   "metadata": {},
   "outputs": [],
   "source": [
    "xgbgrid = GridSearchCV(xgb.XGBClassifier(),\n",
    "                        param_grid = parameters,verbose=-1,cv=stratified_kfold,\n",
    "                        scoring='roc_auc')"
   ]
  },
  {
   "cell_type": "code",
   "execution_count": 18,
   "id": "5ee2c212",
   "metadata": {},
   "outputs": [
    {
     "data": {
      "text/html": [
       "<style>#sk-container-id-1 {color: black;background-color: white;}#sk-container-id-1 pre{padding: 0;}#sk-container-id-1 div.sk-toggleable {background-color: white;}#sk-container-id-1 label.sk-toggleable__label {cursor: pointer;display: block;width: 100%;margin-bottom: 0;padding: 0.3em;box-sizing: border-box;text-align: center;}#sk-container-id-1 label.sk-toggleable__label-arrow:before {content: \"▸\";float: left;margin-right: 0.25em;color: #696969;}#sk-container-id-1 label.sk-toggleable__label-arrow:hover:before {color: black;}#sk-container-id-1 div.sk-estimator:hover label.sk-toggleable__label-arrow:before {color: black;}#sk-container-id-1 div.sk-toggleable__content {max-height: 0;max-width: 0;overflow: hidden;text-align: left;background-color: #f0f8ff;}#sk-container-id-1 div.sk-toggleable__content pre {margin: 0.2em;color: black;border-radius: 0.25em;background-color: #f0f8ff;}#sk-container-id-1 input.sk-toggleable__control:checked~div.sk-toggleable__content {max-height: 200px;max-width: 100%;overflow: auto;}#sk-container-id-1 input.sk-toggleable__control:checked~label.sk-toggleable__label-arrow:before {content: \"▾\";}#sk-container-id-1 div.sk-estimator input.sk-toggleable__control:checked~label.sk-toggleable__label {background-color: #d4ebff;}#sk-container-id-1 div.sk-label input.sk-toggleable__control:checked~label.sk-toggleable__label {background-color: #d4ebff;}#sk-container-id-1 input.sk-hidden--visually {border: 0;clip: rect(1px 1px 1px 1px);clip: rect(1px, 1px, 1px, 1px);height: 1px;margin: -1px;overflow: hidden;padding: 0;position: absolute;width: 1px;}#sk-container-id-1 div.sk-estimator {font-family: monospace;background-color: #f0f8ff;border: 1px dotted black;border-radius: 0.25em;box-sizing: border-box;margin-bottom: 0.5em;}#sk-container-id-1 div.sk-estimator:hover {background-color: #d4ebff;}#sk-container-id-1 div.sk-parallel-item::after {content: \"\";width: 100%;border-bottom: 1px solid gray;flex-grow: 1;}#sk-container-id-1 div.sk-label:hover label.sk-toggleable__label {background-color: #d4ebff;}#sk-container-id-1 div.sk-serial::before {content: \"\";position: absolute;border-left: 1px solid gray;box-sizing: border-box;top: 0;bottom: 0;left: 50%;z-index: 0;}#sk-container-id-1 div.sk-serial {display: flex;flex-direction: column;align-items: center;background-color: white;padding-right: 0.2em;padding-left: 0.2em;position: relative;}#sk-container-id-1 div.sk-item {position: relative;z-index: 1;}#sk-container-id-1 div.sk-parallel {display: flex;align-items: stretch;justify-content: center;background-color: white;position: relative;}#sk-container-id-1 div.sk-item::before, #sk-container-id-1 div.sk-parallel-item::before {content: \"\";position: absolute;border-left: 1px solid gray;box-sizing: border-box;top: 0;bottom: 0;left: 50%;z-index: -1;}#sk-container-id-1 div.sk-parallel-item {display: flex;flex-direction: column;z-index: 1;position: relative;background-color: white;}#sk-container-id-1 div.sk-parallel-item:first-child::after {align-self: flex-end;width: 50%;}#sk-container-id-1 div.sk-parallel-item:last-child::after {align-self: flex-start;width: 50%;}#sk-container-id-1 div.sk-parallel-item:only-child::after {width: 0;}#sk-container-id-1 div.sk-dashed-wrapped {border: 1px dashed gray;margin: 0 0.4em 0.5em 0.4em;box-sizing: border-box;padding-bottom: 0.4em;background-color: white;}#sk-container-id-1 div.sk-label label {font-family: monospace;font-weight: bold;display: inline-block;line-height: 1.2em;}#sk-container-id-1 div.sk-label-container {text-align: center;}#sk-container-id-1 div.sk-container {/* jupyter's `normalize.less` sets `[hidden] { display: none; }` but bootstrap.min.css set `[hidden] { display: none !important; }` so we also need the `!important` here to be able to override the default hidden behavior on the sphinx rendered scikit-learn.org. See: https://github.com/scikit-learn/scikit-learn/issues/21755 */display: inline-block !important;position: relative;}#sk-container-id-1 div.sk-text-repr-fallback {display: none;}</style><div id=\"sk-container-id-1\" class=\"sk-top-container\"><div class=\"sk-text-repr-fallback\"><pre>GridSearchCV(cv=StratifiedKFold(n_splits=3, random_state=42, shuffle=True),\n",
       "             estimator=XGBClassifier(base_score=None, booster=None,\n",
       "                                     callbacks=None, colsample_bylevel=None,\n",
       "                                     colsample_bynode=None,\n",
       "                                     colsample_bytree=None,\n",
       "                                     early_stopping_rounds=None,\n",
       "                                     enable_categorical=False, eval_metric=None,\n",
       "                                     gamma=None, gpu_id=None, grow_policy=None,\n",
       "                                     importance_type=None,\n",
       "                                     interaction_...\n",
       "                                     max_cat_to_onehot=None,\n",
       "                                     max_delta_step=None, max_depth=None,\n",
       "                                     max_leaves=None, min_child_weight=None,\n",
       "                                     missing=nan, monotone_constraints=None,\n",
       "                                     n_estimators=100, n_jobs=None,\n",
       "                                     num_parallel_tree=None, predictor=None,\n",
       "                                     random_state=None, reg_alpha=None,\n",
       "                                     reg_lambda=None, ...),\n",
       "             param_grid={&#x27;learning_rate&#x27;: [0.1, 0.2], &#x27;n_estimators&#x27;: [100],\n",
       "                         &#x27;subsample&#x27;: [0.7, 0.8]},\n",
       "             scoring=&#x27;roc_auc&#x27;, verbose=-1)</pre><b>In a Jupyter environment, please rerun this cell to show the HTML representation or trust the notebook. <br />On GitHub, the HTML representation is unable to render, please try loading this page with nbviewer.org.</b></div><div class=\"sk-container\" hidden><div class=\"sk-item sk-dashed-wrapped\"><div class=\"sk-label-container\"><div class=\"sk-label sk-toggleable\"><input class=\"sk-toggleable__control sk-hidden--visually\" id=\"sk-estimator-id-1\" type=\"checkbox\" ><label for=\"sk-estimator-id-1\" class=\"sk-toggleable__label sk-toggleable__label-arrow\">GridSearchCV</label><div class=\"sk-toggleable__content\"><pre>GridSearchCV(cv=StratifiedKFold(n_splits=3, random_state=42, shuffle=True),\n",
       "             estimator=XGBClassifier(base_score=None, booster=None,\n",
       "                                     callbacks=None, colsample_bylevel=None,\n",
       "                                     colsample_bynode=None,\n",
       "                                     colsample_bytree=None,\n",
       "                                     early_stopping_rounds=None,\n",
       "                                     enable_categorical=False, eval_metric=None,\n",
       "                                     gamma=None, gpu_id=None, grow_policy=None,\n",
       "                                     importance_type=None,\n",
       "                                     interaction_...\n",
       "                                     max_cat_to_onehot=None,\n",
       "                                     max_delta_step=None, max_depth=None,\n",
       "                                     max_leaves=None, min_child_weight=None,\n",
       "                                     missing=nan, monotone_constraints=None,\n",
       "                                     n_estimators=100, n_jobs=None,\n",
       "                                     num_parallel_tree=None, predictor=None,\n",
       "                                     random_state=None, reg_alpha=None,\n",
       "                                     reg_lambda=None, ...),\n",
       "             param_grid={&#x27;learning_rate&#x27;: [0.1, 0.2], &#x27;n_estimators&#x27;: [100],\n",
       "                         &#x27;subsample&#x27;: [0.7, 0.8]},\n",
       "             scoring=&#x27;roc_auc&#x27;, verbose=-1)</pre></div></div></div><div class=\"sk-parallel\"><div class=\"sk-parallel-item\"><div class=\"sk-item\"><div class=\"sk-label-container\"><div class=\"sk-label sk-toggleable\"><input class=\"sk-toggleable__control sk-hidden--visually\" id=\"sk-estimator-id-2\" type=\"checkbox\" ><label for=\"sk-estimator-id-2\" class=\"sk-toggleable__label sk-toggleable__label-arrow\">estimator: XGBClassifier</label><div class=\"sk-toggleable__content\"><pre>XGBClassifier(base_score=None, booster=None, callbacks=None,\n",
       "              colsample_bylevel=None, colsample_bynode=None,\n",
       "              colsample_bytree=None, early_stopping_rounds=None,\n",
       "              enable_categorical=False, eval_metric=None, gamma=None,\n",
       "              gpu_id=None, grow_policy=None, importance_type=None,\n",
       "              interaction_constraints=None, learning_rate=None, max_bin=None,\n",
       "              max_cat_to_onehot=None, max_delta_step=None, max_depth=None,\n",
       "              max_leaves=None, min_child_weight=None, missing=nan,\n",
       "              monotone_constraints=None, n_estimators=100, n_jobs=None,\n",
       "              num_parallel_tree=None, predictor=None, random_state=None,\n",
       "              reg_alpha=None, reg_lambda=None, ...)</pre></div></div></div><div class=\"sk-serial\"><div class=\"sk-item\"><div class=\"sk-estimator sk-toggleable\"><input class=\"sk-toggleable__control sk-hidden--visually\" id=\"sk-estimator-id-3\" type=\"checkbox\" ><label for=\"sk-estimator-id-3\" class=\"sk-toggleable__label sk-toggleable__label-arrow\">XGBClassifier</label><div class=\"sk-toggleable__content\"><pre>XGBClassifier(base_score=None, booster=None, callbacks=None,\n",
       "              colsample_bylevel=None, colsample_bynode=None,\n",
       "              colsample_bytree=None, early_stopping_rounds=None,\n",
       "              enable_categorical=False, eval_metric=None, gamma=None,\n",
       "              gpu_id=None, grow_policy=None, importance_type=None,\n",
       "              interaction_constraints=None, learning_rate=None, max_bin=None,\n",
       "              max_cat_to_onehot=None, max_delta_step=None, max_depth=None,\n",
       "              max_leaves=None, min_child_weight=None, missing=nan,\n",
       "              monotone_constraints=None, n_estimators=100, n_jobs=None,\n",
       "              num_parallel_tree=None, predictor=None, random_state=None,\n",
       "              reg_alpha=None, reg_lambda=None, ...)</pre></div></div></div></div></div></div></div></div></div></div>"
      ],
      "text/plain": [
       "GridSearchCV(cv=StratifiedKFold(n_splits=3, random_state=42, shuffle=True),\n",
       "             estimator=XGBClassifier(base_score=None, booster=None,\n",
       "                                     callbacks=None, colsample_bylevel=None,\n",
       "                                     colsample_bynode=None,\n",
       "                                     colsample_bytree=None,\n",
       "                                     early_stopping_rounds=None,\n",
       "                                     enable_categorical=False, eval_metric=None,\n",
       "                                     gamma=None, gpu_id=None, grow_policy=None,\n",
       "                                     importance_type=None,\n",
       "                                     interaction_...\n",
       "                                     max_cat_to_onehot=None,\n",
       "                                     max_delta_step=None, max_depth=None,\n",
       "                                     max_leaves=None, min_child_weight=None,\n",
       "                                     missing=nan, monotone_constraints=None,\n",
       "                                     n_estimators=100, n_jobs=None,\n",
       "                                     num_parallel_tree=None, predictor=None,\n",
       "                                     random_state=None, reg_alpha=None,\n",
       "                                     reg_lambda=None, ...),\n",
       "             param_grid={'learning_rate': [0.1, 0.2], 'n_estimators': [100],\n",
       "                         'subsample': [0.7, 0.8]},\n",
       "             scoring='roc_auc', verbose=-1)"
      ]
     },
     "execution_count": 18,
     "metadata": {},
     "output_type": "execute_result"
    }
   ],
   "source": [
    "xgbgrid.fit(X_train_set, y_train_set)"
   ]
  },
  {
   "cell_type": "code",
   "execution_count": 34,
   "id": "b5b95267",
   "metadata": {},
   "outputs": [
    {
     "data": {
      "text/plain": [
       "(0.9795734561982168,\n",
       " {'learning_rate': 0.2, 'n_estimators': 100, 'subsample': 0.7})"
      ]
     },
     "execution_count": 34,
     "metadata": {},
     "output_type": "execute_result"
    }
   ],
   "source": [
    "xgbgrid.best_score_,xgbgrid.best_params_"
   ]
  },
  {
   "cell_type": "code",
   "execution_count": 27,
   "id": "8306ef5e",
   "metadata": {},
   "outputs": [
    {
     "data": {
      "text/plain": [
       "0.9582815031298817"
      ]
     },
     "execution_count": 27,
     "metadata": {},
     "output_type": "execute_result"
    }
   ],
   "source": [
    "roc_auc_score(xgbgrid.predict(X_valid_set), y_valid_set)"
   ]
  },
  {
   "cell_type": "code",
   "execution_count": 28,
   "id": "49d24378",
   "metadata": {},
   "outputs": [
    {
     "data": {
      "text/plain": [
       "0.9537687171767085"
      ]
     },
     "execution_count": 28,
     "metadata": {},
     "output_type": "execute_result"
    }
   ],
   "source": [
    "f1_score(xgbgrid.predict(X_valid_set), y_valid_set)"
   ]
  },
  {
   "cell_type": "code",
   "execution_count": null,
   "id": "c23e7978",
   "metadata": {},
   "outputs": [],
   "source": [
    "filename = 'xgboost.pkl'\n",
    "with open(filename, 'wb') as file:\n",
    "    pickle.dump(xgbgrid,file)"
   ]
  },
  {
   "cell_type": "code",
   "execution_count": 37,
   "id": "d18ad2dc",
   "metadata": {},
   "outputs": [
    {
     "data": {
      "text/plain": [
       "['xgboost.joblib']"
      ]
     },
     "execution_count": 37,
     "metadata": {},
     "output_type": "execute_result"
    }
   ],
   "source": [
    "joblib.dump(xgbgrid, 'xgboost.joblib')"
   ]
  },
  {
   "cell_type": "markdown",
   "id": "447a65c2",
   "metadata": {},
   "source": [
    "## Récaputilatif des résultats"
   ]
  },
  {
   "cell_type": "code",
   "execution_count": 23,
   "id": "9b4228e7",
   "metadata": {},
   "outputs": [],
   "source": [
    "##mlflow\n",
    "#from mlflow.models.signature import infer_signature\n",
    "#import mlflow.sklearn\n",
    "#signature_2 = infer_signature(X_train_set, y_train_set)\n",
    "#mlflow.sklearn.save_model(Randomgrid_model, 'mlflow_model_random', signature=signature_2)\n",
    "\n",
    "\n",
    "#mlflow models serve -m mlflow_model_random/ ##pour le deploiement faire dans le terminale\n",
    "## créer  http://127.0.0.1:5000 (35665)\n",
    "#curl http://127.0.0.1:5000/invocations -H 'Content-Type: application/json' -d '{\"data\": [donnnee]}'"
   ]
  },
  {
   "cell_type": "code",
   "execution_count": 20,
   "id": "d00d5e7f",
   "metadata": {},
   "outputs": [],
   "source": [
    "filename_RF = 'RandomForest.pkl'\n",
    "filename_xgb= 'xgboost.pkl'\n",
    "Randomgrid = pickle.load(open(filename_RF, 'rb'))\n",
    "xgbgrid = pickle.load(open(filename_xgb, 'rb'))"
   ]
  },
  {
   "cell_type": "code",
   "execution_count": 27,
   "id": "adb89734",
   "metadata": {},
   "outputs": [
    {
     "data": {
      "text/html": [
       "<div>\n",
       "<style scoped>\n",
       "    .dataframe tbody tr th:only-of-type {\n",
       "        vertical-align: middle;\n",
       "    }\n",
       "\n",
       "    .dataframe tbody tr th {\n",
       "        vertical-align: top;\n",
       "    }\n",
       "\n",
       "    .dataframe thead th {\n",
       "        text-align: right;\n",
       "    }\n",
       "</style>\n",
       "<table border=\"1\" class=\"dataframe\">\n",
       "  <thead>\n",
       "    <tr style=\"text-align: right;\">\n",
       "      <th></th>\n",
       "      <th>Models</th>\n",
       "      <th>Training_set</th>\n",
       "      <th>Validation_set_f1</th>\n",
       "      <th>Validation_set_roc_auc</th>\n",
       "      <th>Validation_set_recall</th>\n",
       "    </tr>\n",
       "  </thead>\n",
       "  <tbody>\n",
       "    <tr>\n",
       "      <th>0</th>\n",
       "      <td>LightGBM</td>\n",
       "      <td>0.975941</td>\n",
       "      <td>0.949833</td>\n",
       "      <td>0.956190</td>\n",
       "      <td>0.999341</td>\n",
       "    </tr>\n",
       "    <tr>\n",
       "      <th>1</th>\n",
       "      <td>xgboost</td>\n",
       "      <td>0.983879</td>\n",
       "      <td>0.956049</td>\n",
       "      <td>0.960144</td>\n",
       "      <td>0.994346</td>\n",
       "    </tr>\n",
       "    <tr>\n",
       "      <th>2</th>\n",
       "      <td>RandomForest</td>\n",
       "      <td>0.979573</td>\n",
       "      <td>0.953769</td>\n",
       "      <td>0.958282</td>\n",
       "      <td>0.994059</td>\n",
       "    </tr>\n",
       "  </tbody>\n",
       "</table>\n",
       "</div>"
      ],
      "text/plain": [
       "         Models  Training_set  Validation_set_f1  Validation_set_roc_auc  \\\n",
       "0      LightGBM      0.975941           0.949833                0.956190   \n",
       "1       xgboost      0.983879           0.956049                0.960144   \n",
       "2  RandomForest      0.979573           0.953769                0.958282   \n",
       "\n",
       "   Validation_set_recall  \n",
       "0               0.999341  \n",
       "1               0.994346  \n",
       "2               0.994059  "
      ]
     },
     "execution_count": 27,
     "metadata": {},
     "output_type": "execute_result"
    }
   ],
   "source": [
    "models_score = pd.DataFrame({})    \n",
    "models_score = models_score.append(pd.DataFrame(\n",
    "    {'Models' : ['LightGBM','xgboost','RandomForest'],\n",
    "     'Training_set' : [LightGBMgrid.best_score_, Randomgrid.best_score_, xgbgrid.best_score_],\n",
    "     'Validation_set_f1' : [f1_score(LightGBMgrid.predict(X_valid_set), y_valid_set),\n",
    "                            f1_score(Randomgrid.predict(X_valid_set), y_valid_set),\n",
    "                            f1_score(xgbgrid.predict(X_valid_set), y_valid_set)],\n",
    "     'Validation_set_roc_auc' : [roc_auc_score(LightGBMgrid.predict(X_valid_set), y_valid_set),\n",
    "                                 roc_auc_score(Randomgrid.predict(X_valid_set), y_valid_set),\n",
    "                                 roc_auc_score(xgbgrid.predict(X_valid_set), y_valid_set)],\n",
    "     'Validation_set_recall' : [recall_score(LightGBMgrid.predict(X_valid_set), y_valid_set),\n",
    "                                 recall_score(Randomgrid.predict(X_valid_set), y_valid_set),\n",
    "                                recall_score(xgbgrid.predict(X_valid_set), y_valid_set)]}),\n",
    "                                   ignore_index=True)\n",
    "models_score"
   ]
  },
  {
   "cell_type": "code",
   "execution_count": 22,
   "id": "ba5a8662",
   "metadata": {},
   "outputs": [],
   "source": [
    "models_score.to_csv('models_score.csv')"
   ]
  },
  {
   "cell_type": "code",
   "execution_count": 30,
   "id": "88f723fe",
   "metadata": {},
   "outputs": [],
   "source": [
    "(TN, FP, FN, TP)=confusion_matrix(xgbgrid.predict(X_valid_set), y_valid_set, labels=[0, 1]).ravel()\n",
    "#fonction_cout_metier=10*FN+FP"
   ]
  },
  {
   "cell_type": "code",
   "execution_count": 35,
   "id": "8ad6350f",
   "metadata": {},
   "outputs": [
    {
     "data": {
      "text/plain": [
       "(44937, 41498, 3775, 248)"
      ]
     },
     "execution_count": 35,
     "metadata": {},
     "output_type": "execute_result"
    }
   ],
   "source": [
    "(TN, TP, FP, FN)"
   ]
  },
  {
   "cell_type": "code",
   "execution_count": null,
   "id": "85289d7f",
   "metadata": {},
   "outputs": [],
   "source": []
  }
 ],
 "metadata": {
  "kernelspec": {
   "display_name": "Python 3 (ipykernel)",
   "language": "python",
   "name": "python3"
  },
  "language_info": {
   "codemirror_mode": {
    "name": "ipython",
    "version": 3
   },
   "file_extension": ".py",
   "mimetype": "text/x-python",
   "name": "python",
   "nbconvert_exporter": "python",
   "pygments_lexer": "ipython3",
   "version": "3.8.12"
  }
 },
 "nbformat": 4,
 "nbformat_minor": 5
}
